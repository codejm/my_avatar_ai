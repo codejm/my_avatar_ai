{
  "cells": [
    {
      "cell_type": "markdown",
      "metadata": {
        "colab_type": "text",
        "id": "view-in-github"
      },
      "source": [
        "<a href=\"https://colab.research.google.com/github/noheat61/my.Avatar-AI/blob/main/demo.ipynb\" target=\"_parent\"><img src=\"https://colab.research.google.com/assets/colab-badge.svg\" alt=\"Open In Colab\"/></a>"
      ]
    },
    {
      "cell_type": "code",
      "execution_count": null,
      "metadata": {
        "id": "23TOba33L4qf"
      },
      "outputs": [],
      "source": [
        "gpu_info = !nvidia-smi\n",
        "gpu_info = '\\n'.join(gpu_info)\n",
        "if gpu_info.find('failed') >= 0:\n",
        "  print('Not connected to a GPU')\n",
        "else:\n",
        "  print(gpu_info)"
      ]
    },
    {
      "cell_type": "markdown",
      "metadata": {
        "id": "hda8GHssR031"
      },
      "source": [
        "# **SetUp**"
      ]
    },
    {
      "cell_type": "code",
      "execution_count": null,
      "metadata": {
        "id": "5SV8uTDn4E-8"
      },
      "outputs": [],
      "source": [
        "# git clone\n",
        "import os\n",
        "\n",
        "!git clone https://github.com/noheat61/my.Avatar-AI avatar-ai\n",
        "os.chdir(f'./avatar-ai')"
      ]
    },
    {
      "cell_type": "code",
      "execution_count": null,
      "metadata": {
        "id": "E9lfu3gQWvix"
      },
      "outputs": [],
      "source": [
        "!pip install face-alignment ninja kornia yacs"
      ]
    },
    {
      "cell_type": "code",
      "execution_count": null,
      "metadata": {
        "id": "ILpLuERuYs8j"
      },
      "outputs": [],
      "source": [
        "!pip install fvcore chumpy\n",
        "\n",
        "import sys\n",
        "import torch\n",
        "pyt_version_str=torch.__version__.split(\"+\")[0].replace(\".\", \"\")\n",
        "version_str=\"\".join([\n",
        "    f\"py3{sys.version_info.minor}_cu\",\n",
        "    torch.version.cuda.replace(\".\",\"\"),\n",
        "    f\"_pyt{pyt_version_str}\"\n",
        "])\n",
        "!pip install --no-index --no-cache-dir pytorch3d -f https://dl.fbaipublicfiles.com/pytorch3d/packaging/wheels/{version_str}/download.html"
      ]
    },
    {
      "cell_type": "code",
      "execution_count": null,
      "metadata": {
        "id": "K0dXGEr3ROoP"
      },
      "outputs": [],
      "source": [
        "# 필요한 대용량 파일 다운로드\n",
        "!python download_cartoon_data.py\n",
        "!bash download_deca_model.sh"
      ]
    },
    {
      "cell_type": "code",
      "execution_count": null,
      "metadata": {
        "id": "hLKr_i6_Zfvs"
      },
      "outputs": [],
      "source": [
        "import os\n",
        "\n",
        "if not os.path.exists(\"cartoon_image\"):\n",
        "    os.mkdir(\"cartoon_image\")\n",
        "if not os.path.exists(\"avatar\"):\n",
        "    os.mkdir(\"avatar\")"
      ]
    },
    {
      "cell_type": "markdown",
      "metadata": {
        "id": "mY7qfmsUT_br"
      },
      "source": [
        "# **Run with Your Own Image**"
      ]
    },
    {
      "cell_type": "code",
      "execution_count": null,
      "metadata": {
        "id": "R-Gbk8YfDtbP"
      },
      "outputs": [],
      "source": [
        "from google.colab import files\n",
        "uploaded = files.upload()\n",
        "image_name = list(uploaded.keys())[0]\n",
        "print(image_name)"
      ]
    },
    {
      "cell_type": "code",
      "execution_count": null,
      "metadata": {
        "id": "M4vwY80cVDVF"
      },
      "outputs": [],
      "source": [
        "from infer import Model2D, Model3D\n",
        "\n",
        "model2D = Model2D()\n",
        "model3D = Model3D()\n",
        "\n",
        "cartoon_path = \"cartoon_image/\"\n",
        "avatar_path = \"avatar/\""
      ]
    },
    {
      "cell_type": "code",
      "execution_count": null,
      "metadata": {
        "id": "AI31jAMpVOIh"
      },
      "outputs": [],
      "source": [
        "model2D.inference(input_path=image_name, output_path=cartoon_path, make_all=False, style=\"DISNEY\") # style: DISNEY, 여신강림"
      ]
    },
    {
      "cell_type": "code",
      "execution_count": null,
      "metadata": {
        "id": "esMY9QFCVcRC"
      },
      "outputs": [],
      "source": [
        "model3D.inference(input_path=cartoon_path, output_path=avatar_path)"
      ]
    },
    {
      "cell_type": "markdown",
      "metadata": {
        "id": "6Q_yaIsWa_L1"
      },
      "source": [
        "# **Download results**"
      ]
    },
    {
      "cell_type": "code",
      "execution_count": null,
      "metadata": {
        "id": "LjDar0NEa_L1"
      },
      "outputs": [],
      "source": [
        "from google.colab import files\n",
        "\n",
        "!zip -r avatar_results.zip avatar\n",
        "files.download(\"avatar_results.zip\")"
      ]
    }
  ],
  "metadata": {
    "accelerator": "GPU",
    "colab": {
      "authorship_tag": "ABX9TyPgQI6u8JrFH8dcYnJCNPdj",
      "collapsed_sections": [],
      "include_colab_link": true,
      "provenance": []
    },
    "gpuClass": "standard",
    "kernelspec": {
      "display_name": "Python 3",
      "name": "python3"
    },
    "language_info": {
      "name": "python"
    }
  },
  "nbformat": 4,
  "nbformat_minor": 0
}
