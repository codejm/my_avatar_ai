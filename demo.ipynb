{
  "cells": [
    {
      "cell_type": "markdown",
      "metadata": {
        "colab_type": "text",
        "id": "view-in-github"
      },
      "source": [
        "<a href=\"https://colab.research.google.com/github/noheat61/my.Avatar-AI/blob/main/demo.ipynb\" target=\"_parent\"><img src=\"https://colab.research.google.com/assets/colab-badge.svg\" alt=\"Open In Colab\"/></a>"
      ]
    },
    {
      "cell_type": "markdown",
      "metadata": {
        "id": "hda8GHssR031"
      },
      "source": [
        "# **SetUp**"
      ]
    },
    {
      "cell_type": "code",
      "execution_count": null,
      "metadata": {
        "id": "5SV8uTDn4E-8"
      },
      "outputs": [],
      "source": [
        "# git clone\n",
        "import os\n",
        "\n",
        "!git clone https://github.com/noheat61/my.Avatar-AI avatar-ai\n",
        "os.chdir(f'./avatar-ai')"
      ]
    },
    {
      "cell_type": "code",
      "execution_count": null,
      "metadata": {
        "id": "E9lfu3gQWvix"
      },
      "outputs": [],
      "source": [
        "# 2D 모델(이미지 도메인 변환) 실행에 필요한 패키지 설치\n",
        "# 이미 colab에 설치된 기존 패키지(ex) pytorch) 제외\n",
        "\n",
        "!pip install face-alignment ninja kornia yacs"
      ]
    },
    {
      "cell_type": "code",
      "execution_count": null,
      "metadata": {
        "id": "ILpLuERuYs8j"
      },
      "outputs": [],
      "source": [
        "# 3D 모델(3D 객체 생성) 실행에 필요한 패키지 설치\n",
        "# 이미 colab에 설치된 기존 패키지(ex) pytorch) 제외\n",
        "!pip install fvcore chumpy\n",
        "\n",
        "# pytorch3d는 python, pytorch, cuda version에 따라 필요한 패키지가 다름\n",
        "# 컴퓨터에 설치된 version에 맞는 패키지 설치\n",
        "import sys\n",
        "import torch\n",
        "pyt_version_str=torch.__version__.split(\"+\")[0].replace(\".\", \"\")\n",
        "version_str=\"\".join([\n",
        "    f\"py3{sys.version_info.minor}_cu\",\n",
        "    torch.version.cuda.replace(\".\",\"\"),\n",
        "    f\"_pyt{pyt_version_str}\"\n",
        "])\n",
        "!pip install --no-index --no-cache-dir pytorch3d -f https://dl.fbaipublicfiles.com/pytorch3d/packaging/wheels/{version_str}/download.html"
      ]
    },
    {
      "cell_type": "code",
      "execution_count": null,
      "metadata": {
        "id": "K0dXGEr3ROoP"
      },
      "outputs": [],
      "source": [
        "# 모델 실행을 위한 대용량 파일 다운로드\n",
        "# download_cartoon_data.py: CartoonStyleGAN 사용할 생성자, 인코더, 만화 생성자 등 네트워크\n",
        "# download_deca_model.sh: DECA에서 사용할 템플릿 객체 파일 등\n",
        "\n",
        "!python download_cartoon_data.py\n",
        "!bash download_deca_model.sh"
      ]
    },
    {
      "cell_type": "markdown",
      "metadata": {
        "id": "mY7qfmsUT_br"
      },
      "source": [
        "# **Run with Your Own Image**"
      ]
    },
    {
      "cell_type": "code",
      "execution_count": null,
      "metadata": {
        "id": "R-Gbk8YfDtbP"
      },
      "outputs": [],
      "source": [
        "# colab에 이미지 파일 업로드(/content/avatar-ai에 저장)\n",
        "\n",
        "from google.colab import files\n",
        "\n",
        "uploaded = files.upload()\n",
        "image_name = list(uploaded.keys())[0]\n",
        "print(image_name)"
      ]
    },
    {
      "cell_type": "code",
      "execution_count": null,
      "metadata": {
        "id": "M4vwY80cVDVF"
      },
      "outputs": [],
      "source": [
        "# 2D, 3D 모델 불러오기(infer.py)\n",
        "# 도메인 변환한 이미지, 생성한 3D 아바타를 저장할 폴더 지정\n",
        "\n",
        "from infer import Model2D, Model3D\n",
        "\n",
        "model2D = Model2D()\n",
        "model3D = Model3D()\n",
        "\n",
        "cartoon_path = \"cartoon_image/\"\n",
        "avatar_path = \"avatar/\""
      ]
    },
    {
      "cell_type": "code",
      "execution_count": null,
      "metadata": {
        "id": "hLKr_i6_Zfvs"
      },
      "outputs": [],
      "source": [
        "# 폴더가 없으면 인퍼런스에서 오류 발생\n",
        "# 미리 해당 폴더 만들기\n",
        "\n",
        "import os\n",
        "\n",
        "if not os.path.exists(\"cartoon_image\"):\n",
        "    os.mkdir(\"cartoon_image\")\n",
        "if not os.path.exists(\"avatar\"):\n",
        "    os.mkdir(\"avatar\")"
      ]
    },
    {
      "cell_type": "code",
      "execution_count": null,
      "metadata": {
        "id": "AI31jAMpVOIh"
      },
      "outputs": [],
      "source": [
        "# 2D 모델(이미지 도메인 변환) 인퍼런스\n",
        "# image_name을 입력 이미지 경로로 입력받아 출력 폴더에 만화화된 이미지들 저장\n",
        "# make_all -> True : 생성할 수 있는 모든 스타일의 이미지 생성\n",
        "# make_all -> False : style에 입력된 스타일(기본: 디즈니)의 이미지만 생성\n",
        "\n",
        "model2D.inference(input_path=image_name, output_path=cartoon_path, make_all=True, style=\"DISNEY\") # style: DISNEY, COMICS, ART, 여신강림, 외모지상주의"
      ]
    },
    {
      "cell_type": "code",
      "execution_count": null,
      "metadata": {
        "id": "esMY9QFCVcRC"
      },
      "outputs": [],
      "source": [
        "# 3D 모델(3D 객체 생성) 인퍼런스\n",
        "# 입력 폴더에 있는 이미지들(만화화된 이미지들)을 모두 3D 객체로 변환하여 아바타 폴더에 저장\n",
        "# get_full -> False : 머리 부분을 제외한 얼굴 전면부만 텍스처 입힘\n",
        "# get_full -> True : 색칠되지 않은 다른 부분에 대해 예측하여 모든 얼굴에 텍스처 입힘(자연스럽지 않음)\n",
        "\n",
        "model3D.inference(input_path=cartoon_path, output_path=avatar_path, get_full = False)"
      ]
    },
    {
      "cell_type": "markdown",
      "metadata": {
        "id": "6Q_yaIsWa_L1"
      },
      "source": [
        "# **Download results**"
      ]
    },
    {
      "cell_type": "code",
      "execution_count": null,
      "metadata": {
        "id": "LjDar0NEa_L1"
      },
      "outputs": [],
      "source": [
        "# 만들어진 객체 다운로드\n",
        "# avatar/ 폴더에 있는 객체들을 zip파일로 묶어 다운로드\n",
        "\n",
        "from google.colab import files\n",
        "\n",
        "!zip -r avatar_results.zip avatar\n",
        "files.download(\"avatar_results.zip\")"
      ]
    }
  ],
  "metadata": {
    "accelerator": "GPU",
    "colab": {
      "authorship_tag": "ABX9TyPgQI6u8JrFH8dcYnJCNPdj",
      "collapsed_sections": [],
      "include_colab_link": true,
      "provenance": []
    },
    "gpuClass": "standard",
    "kernelspec": {
      "display_name": "Python 3.10.5 64-bit",
      "language": "python",
      "name": "python3"
    },
    "language_info": {
      "name": "python",
      "version": "3.10.5"
    },
    "vscode": {
      "interpreter": {
        "hash": "aee8b7b246df8f9039afb4144a1f6fd8d2ca17a180786b69acc140d282b71a49"
      }
    }
  },
  "nbformat": 4,
  "nbformat_minor": 0
}
